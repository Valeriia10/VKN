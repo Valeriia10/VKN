{
 "cells": [
  {
   "cell_type": "code",
   "execution_count": 1,
   "id": "767e136e-af48-45fd-8737-5c5eafc7b557",
   "metadata": {},
   "outputs": [
    {
     "name": "stdout",
     "output_type": "stream",
     "text": [
      "Розв'язок методом половинного ділення: x = 0.8917\n"
     ]
    }
   ],
   "source": [
    "def f(x):\n",
    "    return 3*x**4 + 2*x**3 + x**2 + x - 5\n",
    "\n",
    "def bisection_method(a, b, tol):\n",
    "    if f(a) * f(b) >= 0:\n",
    "        print(\"Помилка: функція не має зміни знаку на заданому відрізку.\")\n",
    "        return None\n",
    "\n",
    "    while (b - a) / 2.0 > tol:\n",
    "        midpoint = (a + b) / 2.0\n",
    "        if f(midpoint) == 0:\n",
    "            return midpoint\n",
    "        elif f(a) * f(midpoint) < 0:\n",
    "            b = midpoint\n",
    "        else:\n",
    "            a = midpoint\n",
    "\n",
    "    return (a + b) / 2.0\n",
    "\n",
    "a = 0\n",
    "b = 1\n",
    "tolerance = 0.0001\n",
    "\n",
    "result = bisection_method(a, b, tolerance)\n",
    "if result is not None:\n",
    "    print(f\"Розв'язок методом половинного ділення: x = {result:.4f}\")\n"
   ]
  },
  {
   "cell_type": "code",
   "execution_count": 3,
   "id": "e8fadcdf-5df3-4e5d-94ff-cce7094d32fc",
   "metadata": {},
   "outputs": [
    {
     "name": "stdout",
     "output_type": "stream",
     "text": [
      "Розв'язок методом хорд: x = 0.8916\n"
     ]
    }
   ],
   "source": [
    "def f(x):\n",
    "    return 3*x**4 + 2*x**3 + x**2 + x - 5\n",
    "\n",
    "def secant_method(a, b, tol):\n",
    "    x0 = a\n",
    "    x1 = b\n",
    "\n",
    "    while abs(x1 - x0) > tol:\n",
    "        if f(x1) - f(x0) == 0:\n",
    "            print(\"Помилка: Ділення на нуль. Метод хорд не працює.\")\n",
    "            return None\n",
    "\n",
    "        x2 = x1 - f(x1) * (x1 - x0) / (f(x1) - f(x0))\n",
    "        x0, x1 = x1, x2\n",
    "\n",
    "    return x1\n",
    "\n",
    "a = 0\n",
    "b = 1\n",
    "tolerance = 0.0001\n",
    "\n",
    "result = secant_method(a, b, tolerance)\n",
    "if result is not None:\n",
    "    print(f\"Розв'язок методом хорд: x = {result:.4f}\")\n",
    "\n"
   ]
  },
  {
   "cell_type": "code",
   "execution_count": null,
   "id": "f6c109c8-4af4-4704-aba0-a64d4d6bb854",
   "metadata": {},
   "outputs": [],
   "source": []
  },
  {
   "cell_type": "code",
   "execution_count": null,
   "id": "755e2bc4-e365-4295-b0aa-2c3ef292c7f8",
   "metadata": {},
   "outputs": [],
   "source": []
  }
 ],
 "metadata": {
  "kernelspec": {
   "display_name": "Python 3 (ipykernel)",
   "language": "python",
   "name": "python3"
  },
  "language_info": {
   "codemirror_mode": {
    "name": "ipython",
    "version": 3
   },
   "file_extension": ".py",
   "mimetype": "text/x-python",
   "name": "python",
   "nbconvert_exporter": "python",
   "pygments_lexer": "ipython3",
   "version": "3.11.0"
  }
 },
 "nbformat": 4,
 "nbformat_minor": 5
}
